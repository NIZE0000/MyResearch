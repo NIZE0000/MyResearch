{
 "cells": [
  {
   "attachments": {},
   "cell_type": "markdown",
   "metadata": {},
   "source": [
    "# DDPM"
   ]
  },
  {
   "attachments": {},
   "cell_type": "markdown",
   "metadata": {},
   "source": [
    "## Set global variable"
   ]
  },
  {
   "cell_type": "code",
   "execution_count": 2,
   "metadata": {},
   "outputs": [],
   "source": [
    "# Path to dataset\n",
    "DATASET = \"dataset/cats/\"\n",
    "# DATASET = \"dataset/lfw/\"\n",
    "DATASET_NAME = DATASET.rstrip('/').split('/')[-1]\n",
    "\n",
    "# Hyperparameter for training\n",
    "IMG_SIZE = 64\n",
    "CHANNELS_IMG = 3\n",
    "BATCH_SIZE = 16\n",
    "\n",
    "LEARNING_RATE = 1e-4  #0.0001\n",
    "# LEARNING_RATE = 1e-5  #0.00001\n",
    "NUM_EPOCHS = 100"
   ]
  },
  {
   "attachments": {},
   "cell_type": "markdown",
   "metadata": {},
   "source": [
    "## Count and set number of image variable"
   ]
  },
  {
   "cell_type": "code",
   "execution_count": 4,
   "metadata": {},
   "outputs": [],
   "source": [
    "import os\n",
    "import glob\n",
    "\n",
    "def count_image_files(folder_path, extensions=['.jpg', '.jpeg', '.png', '.gif']):\n",
    "    count = 0\n",
    "    for extension in extensions:\n",
    "        search_pattern = os.path.join(folder_path, '*' + extension)\n",
    "        count += len(glob.glob(search_pattern))\n",
    "    return count\n"
   ]
  },
  {
   "cell_type": "code",
   "execution_count": 5,
   "metadata": {},
   "outputs": [
    {
     "name": "stdout",
     "output_type": "stream",
     "text": [
      "Number of image files in dataset/cats/: 15747\n"
     ]
    }
   ],
   "source": [
    "NUM_IMAGES = count_image_files(DATASET)\n",
    "\n",
    "print(f\"Number of image files in {DATASET}: {NUM_IMAGES}\")"
   ]
  },
  {
   "attachments": {},
   "cell_type": "markdown",
   "metadata": {},
   "source": [
    "## Set agnostic code"
   ]
  },
  {
   "cell_type": "code",
   "execution_count": 6,
   "metadata": {},
   "outputs": [
    {
     "name": "stdout",
     "output_type": "stream",
     "text": [
      "cuda\n"
     ]
    }
   ],
   "source": [
    "import torch\n",
    "\n",
    "# agnostic code to detect the device\n",
    "device = torch.device(\"cuda\" if torch.cuda.is_available() else \"cpu\")\n",
    "print(device)"
   ]
  },
  {
   "attachments": {},
   "cell_type": "markdown",
   "metadata": {},
   "source": [
    "## Load images to tensor and normalize images"
   ]
  },
  {
   "cell_type": "code",
   "execution_count": 4,
   "metadata": {},
   "outputs": [
    {
     "name": "stdout",
     "output_type": "stream",
     "text": [
      "Loaded data: torch.Size([12876, 3, 64, 64])\n"
     ]
    }
   ],
   "source": [
    "import torchvision.transforms as transforms\n",
    "from PIL import Image\n",
    "\n",
    "# Get the list of image filenames\n",
    "image_filenames = os.listdir(DATASET)\n",
    "\n",
    "# Define the image transformations\n",
    "transform = transforms.Compose([\n",
    "    transforms.Resize((IMG_SIZE, IMG_SIZE)),\n",
    "    # transforms.RandomHorizontalFlip(),\n",
    "    transforms.ToTensor(), # convert PIL image to tensor and scales data into [0,1] \n",
    "    # transforms.Lambda(lambda t: (t * 2) - 1) # Scale between [-1, 1] \n",
    "    transforms.Normalize(mean=[0.5, 0.5, 0.5], std=[0.5, 0.5, 0.5]), # Scale between [-1, 1] by (input[channel] - mean[channel]) / std[channel]\n",
    "])\n",
    "\n",
    "# Create a list to store the transformed images\n",
    "transformed_images = []\n",
    "\n",
    "# Iterate over the first num_images filenames and transform the corresponding images\n",
    "for i, filename in enumerate(image_filenames[:NUM_IMAGES]):\n",
    "    # Load the image\n",
    "    img_path = os.path.join(DATASET, filename)\n",
    "    image = Image.open(img_path)\n",
    "\n",
    "    # Apply the transformations\n",
    "    transformed_image = transform(image)\n",
    "\n",
    "    # Append the transformed image to the list\n",
    "    transformed_images.append(transformed_image)\n",
    "\n",
    "# Convert the list of transformed images to a PyTorch tensor\n",
    "transformed_images = torch.stack(transformed_images)\n",
    "\n",
    "print(f'Loaded data: {transformed_images.shape}')"
   ]
  },
  {
   "attachments": {},
   "cell_type": "markdown",
   "metadata": {},
   "source": [
    "## Separate batch size "
   ]
  },
  {
   "cell_type": "code",
   "execution_count": 5,
   "metadata": {},
   "outputs": [
    {
     "name": "stdout",
     "output_type": "stream",
     "text": [
      "torch.Size([16, 3, 64, 64])\n"
     ]
    }
   ],
   "source": [
    "from torch.utils.data import DataLoader\n",
    "\n",
    "data_loader = DataLoader(transformed_images, batch_size=BATCH_SIZE, shuffle=True, drop_last=True)\n",
    "\n",
    "# print first batch.shape\n",
    "data_iter = iter(data_loader)\n",
    "print(next(data_iter).shape)"
   ]
  },
  {
   "attachments": {},
   "cell_type": "markdown",
   "metadata": {},
   "source": [
    "## Train model and save weight and log "
   ]
  },
  {
   "attachments": {},
   "cell_type": "markdown",
   "metadata": {},
   "source": [
    "## training process\n",
    "parameter base on DDPM and unet papers https://arxiv.org/pdf/1505.04597v1.pdf"
   ]
  },
  {
   "cell_type": "code",
   "execution_count": 6,
   "metadata": {},
   "outputs": [
    {
     "name": "stderr",
     "output_type": "stream",
     "text": [
      "/home/nice/mambaforge/lib/python3.10/site-packages/torch/nn/modules/conv.py:459: UserWarning: Applied workaround for CuDNN issue, install nvrtc.so (Triggered internally at /opt/conda/conda-bld/pytorch_1682343995026/work/aten/src/ATen/native/cudnn/Conv_v8.cpp:80.)\n",
      "  return F.conv2d(input, weight, bias, self.stride,\n"
     ]
    },
    {
     "name": "stdout",
     "output_type": "stream",
     "text": [
      "Epoch [1/100] Batch 804/804 Using Time: 206.7065            Loss: 0.0072\n"
     ]
    },
    {
     "name": "stderr",
     "output_type": "stream",
     "text": [
      "999it [02:43,  6.10it/s]\n"
     ]
    },
    {
     "name": "stdout",
     "output_type": "stream",
     "text": [
      "Epoch [2/100] Batch 804/804 Using Time: 212.6587            Loss: 0.0025\n"
     ]
    },
    {
     "name": "stderr",
     "output_type": "stream",
     "text": [
      "999it [02:44,  6.07it/s]\n"
     ]
    },
    {
     "name": "stdout",
     "output_type": "stream",
     "text": [
      "Epoch [3/100] Batch 804/804 Using Time: 212.7700            Loss: 0.0021\n"
     ]
    },
    {
     "name": "stderr",
     "output_type": "stream",
     "text": [
      "999it [02:45,  6.04it/s]\n"
     ]
    },
    {
     "name": "stdout",
     "output_type": "stream",
     "text": [
      "Epoch [4/100] Batch 804/804 Using Time: 213.6989            Loss: 0.0018\n"
     ]
    },
    {
     "name": "stderr",
     "output_type": "stream",
     "text": [
      "999it [02:45,  6.02it/s]\n"
     ]
    },
    {
     "name": "stdout",
     "output_type": "stream",
     "text": [
      "Epoch [5/100] Batch 804/804 Using Time: 213.9060            Loss: 0.0017\n"
     ]
    },
    {
     "name": "stderr",
     "output_type": "stream",
     "text": [
      "999it [02:46,  6.00it/s]\n"
     ]
    },
    {
     "name": "stdout",
     "output_type": "stream",
     "text": [
      "Epoch [6/100] Batch 804/804 Using Time: 213.9101            Loss: 0.0016\n"
     ]
    },
    {
     "name": "stderr",
     "output_type": "stream",
     "text": [
      "999it [02:45,  6.02it/s]\n"
     ]
    },
    {
     "name": "stdout",
     "output_type": "stream",
     "text": [
      "Epoch [7/100] Batch 804/804 Using Time: 213.5752            Loss: 0.0014\n"
     ]
    },
    {
     "name": "stderr",
     "output_type": "stream",
     "text": [
      "999it [02:46,  6.00it/s]\n"
     ]
    },
    {
     "name": "stdout",
     "output_type": "stream",
     "text": [
      "Epoch [8/100] Batch 804/804 Using Time: 215.2891            Loss: 0.0015\n"
     ]
    },
    {
     "name": "stderr",
     "output_type": "stream",
     "text": [
      "999it [02:47,  5.96it/s]\n"
     ]
    },
    {
     "name": "stdout",
     "output_type": "stream",
     "text": [
      "Epoch [9/100] Batch 804/804 Using Time: 215.9116            Loss: 0.0013\n"
     ]
    },
    {
     "name": "stderr",
     "output_type": "stream",
     "text": [
      "999it [02:48,  5.94it/s]\n"
     ]
    },
    {
     "name": "stdout",
     "output_type": "stream",
     "text": [
      "Epoch [10/100] Batch 804/804 Using Time: 215.8017            Loss: 0.0013\n"
     ]
    },
    {
     "name": "stderr",
     "output_type": "stream",
     "text": [
      "999it [02:47,  5.96it/s]\n"
     ]
    },
    {
     "name": "stdout",
     "output_type": "stream",
     "text": [
      "Epoch [11/100] Batch 804/804 Using Time: 215.4030            Loss: 0.0013\n"
     ]
    },
    {
     "name": "stderr",
     "output_type": "stream",
     "text": [
      "999it [02:47,  5.96it/s]\n"
     ]
    },
    {
     "name": "stdout",
     "output_type": "stream",
     "text": [
      "Epoch [12/100] Batch 804/804 Using Time: 214.9980            Loss: 0.0012\n"
     ]
    },
    {
     "name": "stderr",
     "output_type": "stream",
     "text": [
      "999it [02:47,  5.95it/s]\n"
     ]
    },
    {
     "name": "stdout",
     "output_type": "stream",
     "text": [
      "Epoch [13/100] Batch 804/804 Using Time: 215.4285            Loss: 0.0012\n"
     ]
    },
    {
     "name": "stderr",
     "output_type": "stream",
     "text": [
      "999it [02:47,  5.97it/s]\n"
     ]
    },
    {
     "name": "stdout",
     "output_type": "stream",
     "text": [
      "Epoch [14/100] Batch 804/804 Using Time: 215.0088            Loss: 0.0012\n"
     ]
    },
    {
     "name": "stderr",
     "output_type": "stream",
     "text": [
      "999it [02:47,  5.97it/s]\n"
     ]
    },
    {
     "name": "stdout",
     "output_type": "stream",
     "text": [
      "Epoch [15/100] Batch 804/804 Using Time: 213.9613            Loss: 0.0012\n"
     ]
    },
    {
     "name": "stderr",
     "output_type": "stream",
     "text": [
      "999it [02:47,  5.98it/s]\n"
     ]
    },
    {
     "name": "stdout",
     "output_type": "stream",
     "text": [
      "Epoch [16/100] Batch 804/804 Using Time: 215.4945            Loss: 0.0012\n"
     ]
    },
    {
     "name": "stderr",
     "output_type": "stream",
     "text": [
      "999it [02:48,  5.94it/s]\n"
     ]
    },
    {
     "name": "stdout",
     "output_type": "stream",
     "text": [
      "Epoch [17/100] Batch 804/804 Using Time: 215.5220            Loss: 0.0012\n"
     ]
    },
    {
     "name": "stderr",
     "output_type": "stream",
     "text": [
      "999it [02:48,  5.94it/s]\n"
     ]
    },
    {
     "name": "stdout",
     "output_type": "stream",
     "text": [
      "Epoch [18/100] Batch 804/804 Using Time: 215.2501            Loss: 0.0012\n"
     ]
    },
    {
     "name": "stderr",
     "output_type": "stream",
     "text": [
      "999it [02:47,  5.95it/s]\n"
     ]
    },
    {
     "name": "stdout",
     "output_type": "stream",
     "text": [
      "Epoch [19/100] Batch 804/804 Using Time: 215.0584            Loss: 0.0011\n"
     ]
    },
    {
     "name": "stderr",
     "output_type": "stream",
     "text": [
      "999it [02:47,  5.96it/s]\n"
     ]
    },
    {
     "name": "stdout",
     "output_type": "stream",
     "text": [
      "Epoch [20/100] Batch 804/804 Using Time: 215.4775            Loss: 0.0011\n"
     ]
    },
    {
     "name": "stderr",
     "output_type": "stream",
     "text": [
      "999it [02:47,  5.96it/s]\n"
     ]
    },
    {
     "name": "stdout",
     "output_type": "stream",
     "text": [
      "Epoch [21/100] Batch 804/804 Using Time: 215.1458            Loss: 0.0011\n"
     ]
    },
    {
     "name": "stderr",
     "output_type": "stream",
     "text": [
      "999it [02:47,  5.96it/s]\n"
     ]
    },
    {
     "name": "stdout",
     "output_type": "stream",
     "text": [
      "Epoch [22/100] Batch 804/804 Using Time: 215.7161            Loss: 0.0011\n"
     ]
    },
    {
     "name": "stderr",
     "output_type": "stream",
     "text": [
      "999it [02:48,  5.93it/s]\n"
     ]
    },
    {
     "name": "stdout",
     "output_type": "stream",
     "text": [
      "Epoch [23/100] Batch 804/804 Using Time: 215.8502            Loss: 0.0011\n"
     ]
    },
    {
     "name": "stderr",
     "output_type": "stream",
     "text": [
      "999it [02:47,  5.96it/s]\n"
     ]
    },
    {
     "name": "stdout",
     "output_type": "stream",
     "text": [
      "Epoch [24/100] Batch 804/804 Using Time: 215.2973            Loss: 0.0011\n"
     ]
    },
    {
     "name": "stderr",
     "output_type": "stream",
     "text": [
      "999it [02:47,  5.97it/s]\n"
     ]
    },
    {
     "name": "stdout",
     "output_type": "stream",
     "text": [
      "Epoch [25/100] Batch 804/804 Using Time: 212.0260            Loss: 0.0011\n"
     ]
    },
    {
     "name": "stderr",
     "output_type": "stream",
     "text": [
      "999it [02:44,  6.06it/s]\n"
     ]
    },
    {
     "name": "stdout",
     "output_type": "stream",
     "text": [
      "Epoch [26/100] Batch 804/804 Using Time: 211.7509            Loss: 0.0010\n"
     ]
    },
    {
     "name": "stderr",
     "output_type": "stream",
     "text": [
      "999it [02:43,  6.09it/s]\n"
     ]
    },
    {
     "name": "stdout",
     "output_type": "stream",
     "text": [
      "Epoch [27/100] Batch 804/804 Using Time: 211.9422            Loss: 0.0011\n"
     ]
    },
    {
     "name": "stderr",
     "output_type": "stream",
     "text": [
      "999it [02:44,  6.07it/s]\n"
     ]
    },
    {
     "name": "stdout",
     "output_type": "stream",
     "text": [
      "Epoch [28/100] Batch 804/804 Using Time: 211.7682            Loss: 0.0010\n"
     ]
    },
    {
     "name": "stderr",
     "output_type": "stream",
     "text": [
      "999it [02:44,  6.06it/s]\n"
     ]
    },
    {
     "name": "stdout",
     "output_type": "stream",
     "text": [
      "Epoch [29/100] Batch 804/804 Using Time: 212.0861            Loss: 0.0011\n"
     ]
    },
    {
     "name": "stderr",
     "output_type": "stream",
     "text": [
      "999it [02:44,  6.07it/s]\n"
     ]
    },
    {
     "name": "stdout",
     "output_type": "stream",
     "text": [
      "Epoch [30/100] Batch 804/804 Using Time: 211.4202            Loss: 0.0010\n"
     ]
    },
    {
     "name": "stderr",
     "output_type": "stream",
     "text": [
      "999it [02:44,  6.07it/s]\n"
     ]
    },
    {
     "name": "stdout",
     "output_type": "stream",
     "text": [
      "Epoch [31/100] Batch 804/804 Using Time: 211.8441            Loss: 0.0010\n"
     ]
    },
    {
     "name": "stderr",
     "output_type": "stream",
     "text": [
      "999it [02:44,  6.06it/s]\n"
     ]
    },
    {
     "name": "stdout",
     "output_type": "stream",
     "text": [
      "Epoch [32/100] Batch 804/804 Using Time: 212.1057            Loss: 0.0010\n"
     ]
    },
    {
     "name": "stderr",
     "output_type": "stream",
     "text": [
      "999it [02:44,  6.05it/s]\n"
     ]
    },
    {
     "name": "stdout",
     "output_type": "stream",
     "text": [
      "Epoch [33/100] Batch 804/804 Using Time: 212.0261            Loss: 0.0011\n"
     ]
    },
    {
     "name": "stderr",
     "output_type": "stream",
     "text": [
      "999it [02:44,  6.09it/s]\n"
     ]
    },
    {
     "name": "stdout",
     "output_type": "stream",
     "text": [
      "Epoch [34/100] Batch 804/804 Using Time: 211.9107            Loss: 0.0010\n"
     ]
    },
    {
     "name": "stderr",
     "output_type": "stream",
     "text": [
      "999it [02:44,  6.08it/s]\n"
     ]
    },
    {
     "name": "stdout",
     "output_type": "stream",
     "text": [
      "Epoch [35/100] Batch 804/804 Using Time: 210.9532            Loss: 0.0010\n"
     ]
    },
    {
     "name": "stderr",
     "output_type": "stream",
     "text": [
      "999it [02:43,  6.12it/s]\n"
     ]
    },
    {
     "name": "stdout",
     "output_type": "stream",
     "text": [
      "Epoch [36/100] Batch 804/804 Using Time: 210.6350            Loss: 0.0010\n"
     ]
    },
    {
     "name": "stderr",
     "output_type": "stream",
     "text": [
      "999it [02:44,  6.09it/s]\n"
     ]
    },
    {
     "name": "stdout",
     "output_type": "stream",
     "text": [
      "Epoch [37/100] Batch 804/804 Using Time: 211.5892            Loss: 0.0010\n"
     ]
    },
    {
     "name": "stderr",
     "output_type": "stream",
     "text": [
      "999it [02:44,  6.07it/s]\n"
     ]
    },
    {
     "name": "stdout",
     "output_type": "stream",
     "text": [
      "Epoch [38/100] Batch 804/804 Using Time: 211.1664            Loss: 0.0010\n"
     ]
    },
    {
     "name": "stderr",
     "output_type": "stream",
     "text": [
      "999it [02:43,  6.10it/s]\n"
     ]
    },
    {
     "name": "stdout",
     "output_type": "stream",
     "text": [
      "Epoch [39/100] Batch 804/804 Using Time: 210.8496            Loss: 0.0010\n"
     ]
    },
    {
     "name": "stderr",
     "output_type": "stream",
     "text": [
      "999it [02:43,  6.10it/s]\n"
     ]
    },
    {
     "name": "stdout",
     "output_type": "stream",
     "text": [
      "Epoch [40/100] Batch 804/804 Using Time: 211.2310            Loss: 0.0010\n"
     ]
    },
    {
     "name": "stderr",
     "output_type": "stream",
     "text": [
      "999it [02:43,  6.10it/s]\n"
     ]
    },
    {
     "name": "stdout",
     "output_type": "stream",
     "text": [
      "Epoch [41/100] Batch 804/804 Using Time: 210.9908            Loss: 0.0010\n"
     ]
    },
    {
     "name": "stderr",
     "output_type": "stream",
     "text": [
      "999it [02:44,  6.09it/s]\n"
     ]
    },
    {
     "name": "stdout",
     "output_type": "stream",
     "text": [
      "Epoch [42/100] Batch 804/804 Using Time: 210.8354            Loss: 0.0010\n"
     ]
    },
    {
     "name": "stderr",
     "output_type": "stream",
     "text": [
      "999it [02:43,  6.10it/s]\n"
     ]
    },
    {
     "name": "stdout",
     "output_type": "stream",
     "text": [
      "Epoch [43/100] Batch 804/804 Using Time: 210.7328            Loss: 0.0010\n"
     ]
    },
    {
     "name": "stderr",
     "output_type": "stream",
     "text": [
      "999it [02:43,  6.12it/s]\n"
     ]
    },
    {
     "name": "stdout",
     "output_type": "stream",
     "text": [
      "Epoch [44/100] Batch 804/804 Using Time: 210.1425            Loss: 0.0010\n"
     ]
    },
    {
     "name": "stderr",
     "output_type": "stream",
     "text": [
      "999it [02:43,  6.10it/s]\n"
     ]
    },
    {
     "name": "stdout",
     "output_type": "stream",
     "text": [
      "Epoch [45/100] Batch 804/804 Using Time: 210.3559            Loss: 0.0010\n"
     ]
    },
    {
     "name": "stderr",
     "output_type": "stream",
     "text": [
      "999it [02:43,  6.11it/s]\n"
     ]
    },
    {
     "name": "stdout",
     "output_type": "stream",
     "text": [
      "Epoch [46/100] Batch 804/804 Using Time: 210.2317            Loss: 0.0010\n"
     ]
    },
    {
     "name": "stderr",
     "output_type": "stream",
     "text": [
      "999it [02:43,  6.12it/s]\n"
     ]
    },
    {
     "name": "stdout",
     "output_type": "stream",
     "text": [
      "Epoch [47/100] Batch 804/804 Using Time: 210.3400            Loss: 0.0010\n"
     ]
    },
    {
     "name": "stderr",
     "output_type": "stream",
     "text": [
      "999it [02:43,  6.13it/s]\n"
     ]
    },
    {
     "name": "stdout",
     "output_type": "stream",
     "text": [
      "Epoch [48/100] Batch 804/804 Using Time: 209.8910            Loss: 0.0010\n"
     ]
    },
    {
     "name": "stderr",
     "output_type": "stream",
     "text": [
      "999it [02:43,  6.12it/s]\n"
     ]
    },
    {
     "name": "stdout",
     "output_type": "stream",
     "text": [
      "Epoch [49/100] Batch 804/804 Using Time: 210.3391            Loss: 0.0010\n"
     ]
    },
    {
     "name": "stderr",
     "output_type": "stream",
     "text": [
      "999it [02:43,  6.11it/s]\n"
     ]
    },
    {
     "name": "stdout",
     "output_type": "stream",
     "text": [
      "Epoch [50/100] Batch 804/804 Using Time: 210.4483            Loss: 0.0010\n"
     ]
    },
    {
     "name": "stderr",
     "output_type": "stream",
     "text": [
      "999it [02:42,  6.13it/s]\n"
     ]
    },
    {
     "name": "stdout",
     "output_type": "stream",
     "text": [
      "Epoch [51/100] Batch 804/804 Using Time: 210.2085            Loss: 0.0010\n"
     ]
    },
    {
     "name": "stderr",
     "output_type": "stream",
     "text": [
      "999it [02:42,  6.14it/s]\n"
     ]
    },
    {
     "name": "stdout",
     "output_type": "stream",
     "text": [
      "Epoch [52/100] Batch 804/804 Using Time: 209.7093            Loss: 0.0010\n"
     ]
    },
    {
     "name": "stderr",
     "output_type": "stream",
     "text": [
      "999it [02:42,  6.16it/s]\n"
     ]
    },
    {
     "name": "stdout",
     "output_type": "stream",
     "text": [
      "Epoch [53/100] Batch 804/804 Using Time: 209.2183            Loss: 0.0010\n"
     ]
    },
    {
     "name": "stderr",
     "output_type": "stream",
     "text": [
      "999it [02:42,  6.14it/s]\n"
     ]
    },
    {
     "name": "stdout",
     "output_type": "stream",
     "text": [
      "Epoch [54/100] Batch 804/804 Using Time: 210.6819            Loss: 0.0010\n"
     ]
    },
    {
     "name": "stderr",
     "output_type": "stream",
     "text": [
      "999it [02:43,  6.12it/s]\n"
     ]
    },
    {
     "name": "stdout",
     "output_type": "stream",
     "text": [
      "Epoch [55/100] Batch 804/804 Using Time: 210.0818            Loss: 0.0010\n"
     ]
    },
    {
     "name": "stderr",
     "output_type": "stream",
     "text": [
      "999it [02:43,  6.12it/s]\n"
     ]
    },
    {
     "name": "stdout",
     "output_type": "stream",
     "text": [
      "Epoch [56/100] Batch 804/804 Using Time: 210.1974            Loss: 0.0010\n"
     ]
    },
    {
     "name": "stderr",
     "output_type": "stream",
     "text": [
      "999it [02:42,  6.13it/s]\n"
     ]
    },
    {
     "name": "stdout",
     "output_type": "stream",
     "text": [
      "Epoch [57/100] Batch 804/804 Using Time: 210.1996            Loss: 0.0010\n"
     ]
    },
    {
     "name": "stderr",
     "output_type": "stream",
     "text": [
      "999it [02:43,  6.13it/s]\n"
     ]
    },
    {
     "name": "stdout",
     "output_type": "stream",
     "text": [
      "Epoch [58/100] Batch 804/804 Using Time: 210.0766            Loss: 0.0010\n"
     ]
    },
    {
     "name": "stderr",
     "output_type": "stream",
     "text": [
      "999it [02:42,  6.13it/s]\n"
     ]
    },
    {
     "name": "stdout",
     "output_type": "stream",
     "text": [
      "Epoch [59/100] Batch 804/804 Using Time: 210.2894            Loss: 0.0009\n"
     ]
    },
    {
     "name": "stderr",
     "output_type": "stream",
     "text": [
      "999it [02:42,  6.13it/s]\n"
     ]
    },
    {
     "name": "stdout",
     "output_type": "stream",
     "text": [
      "Epoch [60/100] Batch 804/804 Using Time: 210.3866            Loss: 0.0009\n"
     ]
    },
    {
     "name": "stderr",
     "output_type": "stream",
     "text": [
      "999it [02:42,  6.13it/s]\n"
     ]
    },
    {
     "name": "stdout",
     "output_type": "stream",
     "text": [
      "Epoch [61/100] Batch 804/804 Using Time: 209.5156            Loss: 0.0010\n"
     ]
    },
    {
     "name": "stderr",
     "output_type": "stream",
     "text": [
      "999it [02:42,  6.16it/s]\n"
     ]
    },
    {
     "name": "stdout",
     "output_type": "stream",
     "text": [
      "Epoch [62/100] Batch 804/804 Using Time: 209.4802            Loss: 0.0010\n"
     ]
    },
    {
     "name": "stderr",
     "output_type": "stream",
     "text": [
      "999it [02:41,  6.17it/s]\n"
     ]
    },
    {
     "name": "stdout",
     "output_type": "stream",
     "text": [
      "Epoch [63/100] Batch 804/804 Using Time: 209.1459            Loss: 0.0010\n"
     ]
    },
    {
     "name": "stderr",
     "output_type": "stream",
     "text": [
      "999it [02:42,  6.16it/s]\n"
     ]
    },
    {
     "name": "stdout",
     "output_type": "stream",
     "text": [
      "Epoch [64/100] Batch 804/804 Using Time: 209.2562            Loss: 0.0010\n"
     ]
    },
    {
     "name": "stderr",
     "output_type": "stream",
     "text": [
      "999it [02:41,  6.17it/s]\n"
     ]
    },
    {
     "name": "stdout",
     "output_type": "stream",
     "text": [
      "Epoch [65/100] Batch 804/804 Using Time: 209.2849            Loss: 0.0010\n"
     ]
    },
    {
     "name": "stderr",
     "output_type": "stream",
     "text": [
      "999it [02:42,  6.16it/s]\n"
     ]
    },
    {
     "name": "stdout",
     "output_type": "stream",
     "text": [
      "Epoch [66/100] Batch 804/804 Using Time: 208.8800            Loss: 0.0010\n"
     ]
    },
    {
     "name": "stderr",
     "output_type": "stream",
     "text": [
      "999it [02:42,  6.16it/s]\n"
     ]
    },
    {
     "name": "stdout",
     "output_type": "stream",
     "text": [
      "Epoch [67/100] Batch 804/804 Using Time: 209.6304            Loss: 0.0009\n"
     ]
    },
    {
     "name": "stderr",
     "output_type": "stream",
     "text": [
      "999it [02:42,  6.15it/s]\n"
     ]
    },
    {
     "name": "stdout",
     "output_type": "stream",
     "text": [
      "Epoch [68/100] Batch 804/804 Using Time: 209.5612            Loss: 0.0009\n"
     ]
    },
    {
     "name": "stderr",
     "output_type": "stream",
     "text": [
      "999it [02:41,  6.18it/s]\n"
     ]
    },
    {
     "name": "stdout",
     "output_type": "stream",
     "text": [
      "Epoch [69/100] Batch 804/804 Using Time: 208.6042            Loss: 0.0009\n"
     ]
    },
    {
     "name": "stderr",
     "output_type": "stream",
     "text": [
      "999it [02:41,  6.17it/s]\n"
     ]
    },
    {
     "name": "stdout",
     "output_type": "stream",
     "text": [
      "Epoch [70/100] Batch 804/804 Using Time: 209.0393            Loss: 0.0010\n"
     ]
    },
    {
     "name": "stderr",
     "output_type": "stream",
     "text": [
      "999it [02:42,  6.16it/s]\n"
     ]
    },
    {
     "name": "stdout",
     "output_type": "stream",
     "text": [
      "Epoch [71/100] Batch 804/804 Using Time: 209.2235            Loss: 0.0009\n"
     ]
    },
    {
     "name": "stderr",
     "output_type": "stream",
     "text": [
      "999it [02:42,  6.17it/s]\n"
     ]
    },
    {
     "name": "stdout",
     "output_type": "stream",
     "text": [
      "Epoch [72/100] Batch 804/804 Using Time: 208.7986            Loss: 0.0009\n"
     ]
    },
    {
     "name": "stderr",
     "output_type": "stream",
     "text": [
      "999it [02:41,  6.17it/s]\n"
     ]
    },
    {
     "name": "stdout",
     "output_type": "stream",
     "text": [
      "Epoch [73/100] Batch 804/804 Using Time: 208.7386            Loss: 0.0010\n"
     ]
    },
    {
     "name": "stderr",
     "output_type": "stream",
     "text": [
      "999it [02:41,  6.17it/s]\n"
     ]
    },
    {
     "name": "stdout",
     "output_type": "stream",
     "text": [
      "Epoch [74/100] Batch 804/804 Using Time: 209.0527            Loss: 0.0009\n"
     ]
    },
    {
     "name": "stderr",
     "output_type": "stream",
     "text": [
      "999it [02:41,  6.18it/s]\n"
     ]
    },
    {
     "name": "stdout",
     "output_type": "stream",
     "text": [
      "Epoch [75/100] Batch 804/804 Using Time: 208.8446            Loss: 0.0009\n"
     ]
    },
    {
     "name": "stderr",
     "output_type": "stream",
     "text": [
      "999it [02:41,  6.17it/s]\n"
     ]
    },
    {
     "name": "stdout",
     "output_type": "stream",
     "text": [
      "Epoch [76/100] Batch 804/804 Using Time: 209.3455            Loss: 0.0009\n"
     ]
    },
    {
     "name": "stderr",
     "output_type": "stream",
     "text": [
      "999it [02:42,  6.16it/s]\n"
     ]
    },
    {
     "name": "stdout",
     "output_type": "stream",
     "text": [
      "Epoch [77/100] Batch 804/804 Using Time: 209.7231            Loss: 0.0010\n"
     ]
    },
    {
     "name": "stderr",
     "output_type": "stream",
     "text": [
      "999it [02:49,  5.88it/s]\n"
     ]
    },
    {
     "name": "stdout",
     "output_type": "stream",
     "text": [
      "Epoch [78/100] Batch 804/804 Using Time: 215.8785            Loss: 0.0009\n"
     ]
    },
    {
     "name": "stderr",
     "output_type": "stream",
     "text": [
      "999it [02:47,  5.97it/s]\n"
     ]
    },
    {
     "name": "stdout",
     "output_type": "stream",
     "text": [
      "Epoch [79/100] Batch 804/804 Using Time: 210.9632            Loss: 0.0009\n"
     ]
    },
    {
     "name": "stderr",
     "output_type": "stream",
     "text": [
      "999it [02:42,  6.14it/s]\n"
     ]
    },
    {
     "name": "stdout",
     "output_type": "stream",
     "text": [
      "Epoch [80/100] Batch 804/804 Using Time: 210.9089            Loss: 0.0009\n"
     ]
    },
    {
     "name": "stderr",
     "output_type": "stream",
     "text": [
      "999it [02:44,  6.06it/s]\n"
     ]
    },
    {
     "name": "stdout",
     "output_type": "stream",
     "text": [
      "Epoch [81/100] Batch 804/804 Using Time: 213.3553            Loss: 0.0009\n"
     ]
    },
    {
     "name": "stderr",
     "output_type": "stream",
     "text": [
      "999it [02:44,  6.09it/s]\n"
     ]
    },
    {
     "name": "stdout",
     "output_type": "stream",
     "text": [
      "Epoch [82/100] Batch 804/804 Using Time: 211.9788            Loss: 0.0009\n"
     ]
    },
    {
     "name": "stderr",
     "output_type": "stream",
     "text": [
      "999it [02:43,  6.09it/s]\n"
     ]
    },
    {
     "name": "stdout",
     "output_type": "stream",
     "text": [
      "Epoch [83/100] Batch 804/804 Using Time: 210.7370            Loss: 0.0010\n"
     ]
    },
    {
     "name": "stderr",
     "output_type": "stream",
     "text": [
      "999it [02:44,  6.07it/s]\n"
     ]
    },
    {
     "name": "stdout",
     "output_type": "stream",
     "text": [
      "Epoch [84/100] Batch 804/804 Using Time: 211.4698            Loss: 0.0009\n"
     ]
    },
    {
     "name": "stderr",
     "output_type": "stream",
     "text": [
      "999it [02:43,  6.11it/s]\n"
     ]
    },
    {
     "name": "stdout",
     "output_type": "stream",
     "text": [
      "Epoch [85/100] Batch 804/804 Using Time: 210.7267            Loss: 0.0009\n"
     ]
    },
    {
     "name": "stderr",
     "output_type": "stream",
     "text": [
      "999it [02:43,  6.10it/s]\n"
     ]
    },
    {
     "name": "stdout",
     "output_type": "stream",
     "text": [
      "Epoch [86/100] Batch 804/804 Using Time: 212.2509            Loss: 0.0009\n"
     ]
    },
    {
     "name": "stderr",
     "output_type": "stream",
     "text": [
      "999it [02:45,  6.04it/s]\n"
     ]
    },
    {
     "name": "stdout",
     "output_type": "stream",
     "text": [
      "Epoch [87/100] Batch 804/804 Using Time: 212.4837            Loss: 0.0009\n"
     ]
    },
    {
     "name": "stderr",
     "output_type": "stream",
     "text": [
      "999it [02:44,  6.09it/s]\n"
     ]
    },
    {
     "name": "stdout",
     "output_type": "stream",
     "text": [
      "Epoch [88/100] Batch 804/804 Using Time: 213.4489            Loss: 0.0009\n"
     ]
    },
    {
     "name": "stderr",
     "output_type": "stream",
     "text": [
      "999it [02:44,  6.07it/s]\n"
     ]
    },
    {
     "name": "stdout",
     "output_type": "stream",
     "text": [
      "Epoch [89/100] Batch 804/804 Using Time: 214.5439            Loss: 0.0009\n"
     ]
    },
    {
     "name": "stderr",
     "output_type": "stream",
     "text": [
      "999it [02:44,  6.08it/s]\n"
     ]
    },
    {
     "name": "stdout",
     "output_type": "stream",
     "text": [
      "Epoch [90/100] Batch 804/804 Using Time: 212.4186            Loss: 0.0009\n"
     ]
    },
    {
     "name": "stderr",
     "output_type": "stream",
     "text": [
      "999it [02:43,  6.10it/s]\n"
     ]
    },
    {
     "name": "stdout",
     "output_type": "stream",
     "text": [
      "Epoch [91/100] Batch 804/804 Using Time: 210.3076            Loss: 0.0009\n"
     ]
    },
    {
     "name": "stderr",
     "output_type": "stream",
     "text": [
      "999it [02:44,  6.07it/s]\n"
     ]
    },
    {
     "name": "stdout",
     "output_type": "stream",
     "text": [
      "Epoch [92/100] Batch 804/804 Using Time: 211.7946            Loss: 0.0009\n"
     ]
    },
    {
     "name": "stderr",
     "output_type": "stream",
     "text": [
      "999it [02:44,  6.07it/s]\n"
     ]
    },
    {
     "name": "stdout",
     "output_type": "stream",
     "text": [
      "Epoch [93/100] Batch 804/804 Using Time: 212.7197            Loss: 0.0009\n"
     ]
    },
    {
     "name": "stderr",
     "output_type": "stream",
     "text": [
      "999it [02:44,  6.06it/s]\n"
     ]
    },
    {
     "name": "stdout",
     "output_type": "stream",
     "text": [
      "Epoch [94/100] Batch 804/804 Using Time: 213.1965            Loss: 0.0009\n"
     ]
    },
    {
     "name": "stderr",
     "output_type": "stream",
     "text": [
      "999it [02:49,  5.88it/s]\n"
     ]
    },
    {
     "name": "stdout",
     "output_type": "stream",
     "text": [
      "Epoch [95/100] Batch 804/804 Using Time: 213.8210            Loss: 0.0009\n"
     ]
    },
    {
     "name": "stderr",
     "output_type": "stream",
     "text": [
      "999it [02:46,  5.99it/s]\n"
     ]
    },
    {
     "name": "stdout",
     "output_type": "stream",
     "text": [
      "Epoch [96/100] Batch 804/804 Using Time: 214.5201            Loss: 0.0009\n"
     ]
    },
    {
     "name": "stderr",
     "output_type": "stream",
     "text": [
      "999it [02:46,  5.98it/s]\n"
     ]
    },
    {
     "name": "stdout",
     "output_type": "stream",
     "text": [
      "Epoch [97/100] Batch 804/804 Using Time: 214.5922            Loss: 0.0009\n"
     ]
    },
    {
     "name": "stderr",
     "output_type": "stream",
     "text": [
      "999it [02:46,  6.00it/s]\n"
     ]
    },
    {
     "name": "stdout",
     "output_type": "stream",
     "text": [
      "Epoch [98/100] Batch 804/804 Using Time: 212.8345            Loss: 0.0009\n"
     ]
    },
    {
     "name": "stderr",
     "output_type": "stream",
     "text": [
      "999it [02:45,  6.03it/s]\n"
     ]
    },
    {
     "name": "stdout",
     "output_type": "stream",
     "text": [
      "Epoch [99/100] Batch 804/804 Using Time: 213.2356            Loss: 0.0009\n"
     ]
    },
    {
     "name": "stderr",
     "output_type": "stream",
     "text": [
      "999it [02:44,  6.07it/s]\n"
     ]
    },
    {
     "name": "stdout",
     "output_type": "stream",
     "text": [
      "Epoch [100/100] Batch 804/804 Using Time: 211.6610            Loss: 0.0009\n"
     ]
    },
    {
     "name": "stderr",
     "output_type": "stream",
     "text": [
      "999it [02:44,  6.08it/s]\n"
     ]
    }
   ],
   "source": [
    "import time\n",
    "from modules.ddpm import Diffusion, UNet\n",
    "\n",
    "import torch.optim as optim\n",
    "import torch.nn as nn\n",
    "import torchvision\n",
    "\n",
    "from torch.utils.tensorboard import SummaryWriter\n",
    "\n",
    "model = UNet().to(device)\n",
    "optimizer = optim.AdamW(model.parameters(), lr=LEARNING_RATE)\n",
    "mse = nn.MSELoss()\n",
    "diffusion = Diffusion(img_size=IMG_SIZE, device=device)\n",
    "writer = SummaryWriter(os.path.join(f\"logs/{DATASET_NAME}\",\"DDPM\"))\n",
    "\n",
    "l = len(data_loader)\n",
    "\n",
    "time_use = 0\n",
    "\n",
    "for epoch in range(NUM_EPOCHS):\n",
    "\n",
    "    lossMean = 0\n",
    "\n",
    "    # use time for time measurement\n",
    "    start_time = time.time()\n",
    "\n",
    "    model.train()\n",
    "    \n",
    "    for batch_idx, images in enumerate(data_loader):\n",
    "        images = images.to(device)\n",
    "        t = diffusion.sample_timesteps(images.shape[0]).to(device)\n",
    "        x_t, noise = diffusion.noise_images(images, t)\n",
    "        predicted_noise = model(x_t, t)\n",
    "        loss = mse(noise, predicted_noise)\n",
    "\n",
    "        optimizer.zero_grad()\n",
    "        loss.backward()\n",
    "        optimizer.step()\n",
    "\n",
    "        # sum lose\n",
    "        lossMean += loss\n",
    "\n",
    "        # add log at first \n",
    "        if epoch == 0 and batch_idx == 0:\n",
    "            writer.add_scalar(\"Loss/MSE\", lossMean, global_step=epoch)\n",
    "            writer.add_scalar(\"traing time\", time_use, epoch)\n",
    "\n",
    "    end_time = time.time()\n",
    "    epoch_time = end_time - start_time\n",
    "\n",
    "    time_use += epoch_time \n",
    "\n",
    "    epoch_index = epoch+1\n",
    "\n",
    "    # calculate mean value\n",
    "    lossMean = lossMean / len(data_loader.dataset)\n",
    "\n",
    "    print(\n",
    "        f\"Epoch [{epoch_index}/{NUM_EPOCHS}] Batch {batch_idx+1}/{len(data_loader)} Using Time: {epoch_time:.4f}\\\n",
    "            Loss: {lossMean:.4f}\"\n",
    "    )\n",
    "\n",
    "    # tensorboard\n",
    "    writer.add_scalar(\"Loss/MSE\", lossMean, global_step=epoch+1)\n",
    "    writer.add_scalar(\"traing time\", time_use, epoch_index)\n",
    "\n",
    "    weight_path = os.path.join(\"weights\", f'{DATASET_NAME}', \"DDPM\")\n",
    "    os.makedirs(weight_path, exist_ok=True)\n",
    "    torch.save(model.state_dict(), os.path.join(\"weights\", f'{DATASET_NAME}', \"DDPM\", f\"{epoch_index}.pt\"))\n",
    "\n",
    "    model.eval()\n",
    "    with torch.no_grad():\n",
    "        x = diffusion.sample(model, n=32).type(dtype=torch.float32)\n",
    "        img_grid = torchvision.utils.make_grid(x[:32], normalize=True)\n",
    "        writer.add_image(\"All/Gen\", img_grid, global_step=epoch_index)\n"
   ]
  },
  {
   "cell_type": "markdown",
   "metadata": {},
   "source": [
    "# change image when sample"
   ]
  },
  {
   "cell_type": "code",
   "execution_count": 8,
   "metadata": {},
   "outputs": [
    {
     "name": "stderr",
     "output_type": "stream",
     "text": [
      "999it [02:39,  6.25it/s]\n"
     ]
    }
   ],
   "source": [
    "x = diffusion.sample(model, n=32).type(dtype=torch.float32)\n",
    "img_grid = torchvision.utils.make_grid(x[:32], normalize=True)"
   ]
  },
  {
   "cell_type": "code",
   "execution_count": 25,
   "metadata": {},
   "outputs": [
    {
     "name": "stderr",
     "output_type": "stream",
     "text": [
      "999it [00:16, 62.20it/s]\n"
     ]
    },
    {
     "data": {
      "image/png": "[encoded data removed]",
      "text/plain": [
       "<Figure size 640x480 with 1 Axes>"
      ]
     },
     "metadata": {},
     "output_type": "display_data"
    }
   ],
   "source": [
    "import matplotlib.pyplot as plt\n",
    "from modules.ddpm import Diffusion, UNet\n",
    "import torchvision\n",
    "\n",
    "diffusion = Diffusion(img_size=IMG_SIZE, device=device)\n",
    "model = UNet().to(device=device)\n",
    "\n",
    "for i in range(1): \n",
    "\n",
    "    index = 100\n",
    "    \n",
    "    model.load_state_dict(torch.load(f'weights/lfw/DDPM/{index}.pt'))\n",
    "    x = diffusion.sample(model, n=1).type(dtype=torch.float32)\n",
    "    img_grid = torchvision.utils.make_grid(x[:32], normalize=True)\n",
    "    \n",
    "    # Convert the image tensor to a numpy array\n",
    "    np_img = img_grid.cpu().numpy().transpose((1, 2, 0))\n",
    "\n",
    "    # Create a figure and axis\n",
    "    fig, ax = plt.subplots()\n",
    "\n",
    "    # Display the image grid\n",
    "    ax.imshow(np_img)\n",
    "\n",
    "    # Remove ticks and labels\n",
    "    ax.axis('off')\n",
    "\n",
    "    # Show the plot\n",
    "    plt.show()\n",
    "\n"
   ]
  },
  {
   "attachments": {},
   "cell_type": "markdown",
   "metadata": {},
   "source": [
    "# Measure FID\n",
    "\n",
    "use this implementation: https://github.com/mseitzer/pytorch-fid/tree/master"
   ]
  },
  {
   "attachments": {},
   "cell_type": "markdown",
   "metadata": {},
   "source": [
    "## define FID measurement function "
   ]
  },
  {
   "cell_type": "code",
   "execution_count": 7,
   "metadata": {},
   "outputs": [],
   "source": [
    "import subprocess\n",
    "import torch\n",
    "from torchvision.utils import save_image\n",
    "import re\n",
    "import os\n",
    "import gc\n",
    "from modules.ddpm import  Diffusion\n",
    "\n",
    "\n",
    "# Create a function to run the FID script\n",
    "def run_fid(real_path, gen_path):\n",
    "    command = [\"python\", \"-m\", \"pytorch_fid\", real_path, gen_path]\n",
    "\n",
    "    output = subprocess.run(command, capture_output=True, text=True)\n",
    "\n",
    "    # Extract the FID score using regular expressions\n",
    "    output = output.stdout\n",
    "\n",
    "    fid_score_match = re.search(r\"FID:\\s+(-?\\d+\\.\\d+)\", output)\n",
    "    \n",
    "    if fid_score_match:\n",
    "        fid_score = float(fid_score_match.group(1))\n",
    "        \n",
    "        return fid_score\n",
    "\n",
    "    else:\n",
    "        print(\"FID score not found in the output.\")\n",
    "\n",
    "def generate_images(model, sample_size=100*8, batch_size=8, device=\"cuda\", real_path=f\"dataset/{DATASET_NAME}/\", gen_path=f\"generated_images/{DATASET_NAME}/DCGAN\"):\n",
    "\n",
    "    diffusion = Diffusion(img_size=IMG_SIZE, device=device)\n",
    "    \n",
    "    # Set the model to evaluation mode\n",
    "    model.eval()\n",
    "\n",
    "    # Create a folder for generated images if it doesn't exist\n",
    "    os.makedirs(gen_path, exist_ok=True)\n",
    "\n",
    "    # Generate images\n",
    "    with torch.no_grad():\n",
    "        for i in range(0, sample_size, batch_size):\n",
    "            \n",
    "            x = diffusion.sample(model, n=batch_size).type(dtype=torch.float32)\n",
    "\n",
    "            for j in range(batch_size):\n",
    "                save_image(x[j], f\"{gen_path}/{i+j}.png\", normalize=True)\n",
    "        \n",
    "    # model = None\n",
    "    # gc.collect() \n",
    "\n",
    "    with torch.no_grad():\n",
    "        del model\n",
    "        torch.cuda.empty_cache()\n",
    "\n"
   ]
  },
  {
   "attachments": {},
   "cell_type": "markdown",
   "metadata": {},
   "source": [
    "## Load weight of model to measure FID score"
   ]
  },
  {
   "cell_type": "code",
   "execution_count": 8,
   "metadata": {},
   "outputs": [],
   "source": [
    "def load_weight( model, weight_path=\"\", index=int):\n",
    "    # Load the saved weights\n",
    "    model.load_state_dict(torch.load(f'{weight_path}/{index}.pt'))\n",
    "    "
   ]
  },
  {
   "cell_type": "code",
   "execution_count": 9,
   "metadata": {},
   "outputs": [],
   "source": [
    "from modules.ddpm import UNet\n",
    "from pathlib import Path\n",
    "from torch.utils.tensorboard import SummaryWriter\n",
    "\n",
    "writer = SummaryWriter(f'logs/{DATASET_NAME}/DDPM/')\n",
    "\n",
    "# Specify the directory path\n",
    "directory_path = Path(f'weights/{DATASET_NAME}/DDPM/')\n",
    "\n",
    "# Get the list of files ending with \".pth\"\n",
    "# file_list = list(directory_path.glob('*.pt'))\n",
    "\n",
    "sample_size = 5000\n",
    "\n",
    "start = 1\n",
    "stop = NUM_EPOCHS+1\n",
    "step = 7\n",
    "\n",
    "for i in range(start, stop, step):\n",
    "\n",
    "    index_weight = i\n",
    "\n",
    "    # model = UNet().to(device)\n",
    "\n",
    "    # load_weight(model, weight_path=directory_path, index=index_weight)\n",
    "\n",
    "    # generate_images(model, sample_size, batch_size=64, device=f'{device}', gen_path=f'gen/{DATASET_NAME}/DDPM/{index_weight}')\n",
    "\n",
    "    # FID measurement\n",
    "    fid_score = run_fid(f\"{DATASET}\", f\"gen/{DATASET_NAME}/DCGAN/{index_weight}\")\n",
    "    print(f'Epoch: {index_weight} FID score: {fid_score}')\n",
    "    writer.add_scalar(\"Metrics/FID Score\", fid_score, index_weight)\n"
   ]
  },
  {
   "cell_type": "markdown",
   "metadata": {},
   "source": [
    "# subprocess"
   ]
  },
  {
   "cell_type": "code",
   "execution_count": null,
   "metadata": {},
   "outputs": [],
   "source": [
    "import subprocess\n",
    "\n",
    "index = 1\n",
    "# Define the command to be executed\n",
    "command = [\n",
    "    \"python\",\n",
    "    \"modules/ddpm_sample.py\",\n",
    "    \"--sample-size\",\n",
    "    \"900\",\n",
    "    \"--batch-size\",\n",
    "    \"50\",\n",
    "    \"--gen-path\",\n",
    "    f\"gen/{DATASET_NAME}/DDPM/{index}\",\n",
    "    \"--weight-path\",    \n",
    "    f\"weights/{DATASET_NAME}/DDPM/{index}.pt\"\n",
    "]\n",
    "\n",
    "# Run the command and capture the output\n",
    "try:\n",
    "    output = subprocess.check_output(command)\n",
    "    output = output.decode(\"utf-8\")  # Decode the byte output to string (if needed)\n",
    "    print(output)\n",
    "except subprocess.CalledProcessError as e:\n",
    "    print(\"Command execution failed:\", e)\n"
   ]
  },
  {
   "cell_type": "code",
   "execution_count": 6,
   "metadata": {},
   "outputs": [
    {
     "name": "stdout",
     "output_type": "stream",
     "text": [
      "Epoch: 1 Done\n",
      "Epoch: 8 Done\n",
      "Epoch: 15 Done\n",
      "Epoch: 22 Done\n",
      "Epoch: 29 Done\n",
      "Epoch: 36 Done\n",
      "Epoch: 43 Done\n",
      "Epoch: 50 Done\n",
      "Epoch: 57 Done\n",
      "Epoch: 64 Done\n",
      "Epoch: 71 Done\n",
      "Epoch: 78 Remaining 1450 images to generate\n"
     ]
    },
    {
     "name": "stderr",
     "output_type": "stream",
     "text": [
      "0it [00:00, ?it/s]/home/nice/mambaforge/lib/python3.10/site-packages/torch/nn/modules/conv.py:459: UserWarning: Applied workaround for CuDNN issue, install nvrtc.so (Triggered internally at /opt/conda/conda-bld/pytorch_1682343995026/work/aten/src/ATen/native/cudnn/Conv_v8.cpp:80.)\n",
      "  return F.conv2d(input, weight, bias, self.stride,\n",
      "999it [05:13,  3.18it/s]\n",
      "999it [05:07,  3.25it/s]\n",
      "999it [05:08,  3.24it/s]\n",
      "999it [05:08,  3.24it/s]\n",
      "999it [05:08,  3.24it/s]\n",
      "999it [05:08,  3.24it/s]\n",
      "999it [05:08,  3.24it/s]\n",
      "999it [05:08,  3.24it/s]\n",
      "999it [05:08,  3.24it/s]\n",
      "999it [05:08,  3.24it/s]\n",
      "999it [05:08,  3.24it/s]\n",
      "999it [05:08,  3.24it/s]\n",
      "999it [05:08,  3.24it/s]\n",
      "999it [05:08,  3.24it/s]\n",
      "999it [05:08,  3.24it/s]\n",
      "999it [05:08,  3.24it/s]\n",
      "999it [05:08,  3.24it/s]\n",
      "999it [05:08,  3.24it/s]\n",
      "999it [05:08,  3.24it/s]\n",
      "999it [05:08,  3.24it/s]\n",
      "999it [05:08,  3.23it/s]\n",
      "999it [05:09,  3.23it/s]\n",
      "999it [05:08,  3.23it/s]\n",
      "999it [05:08,  3.24it/s]\n",
      "999it [05:09,  3.23it/s]\n",
      "999it [05:08,  3.24it/s]\n",
      "999it [05:08,  3.24it/s]\n",
      "999it [05:08,  3.24it/s]\n",
      "999it [05:08,  3.24it/s]\n"
     ]
    },
    {
     "name": "stdout",
     "output_type": "stream",
     "text": [
      "subprocess done.\n",
      "\n",
      "Epoch: 85 Remaining 5000 images to generate\n"
     ]
    },
    {
     "name": "stderr",
     "output_type": "stream",
     "text": [
      "0it [00:00, ?it/s]/home/nice/mambaforge/lib/python3.10/site-packages/torch/nn/modules/conv.py:459: UserWarning: Applied workaround for CuDNN issue, install nvrtc.so (Triggered internally at /opt/conda/conda-bld/pytorch_1682343995026/work/aten/src/ATen/native/cudnn/Conv_v8.cpp:80.)\n",
      "  return F.conv2d(input, weight, bias, self.stride,\n",
      "999it [05:08,  3.24it/s]\n",
      "999it [05:08,  3.24it/s]\n",
      "999it [05:08,  3.23it/s]\n",
      "999it [05:09,  3.23it/s]\n",
      "999it [05:08,  3.24it/s]\n",
      "999it [05:08,  3.24it/s]\n",
      "999it [05:08,  3.24it/s]\n",
      "999it [05:08,  3.24it/s]\n",
      "999it [05:08,  3.24it/s]\n",
      "999it [05:08,  3.24it/s]\n",
      "999it [05:08,  3.24it/s]\n",
      "999it [05:08,  3.23it/s]\n",
      "999it [05:08,  3.24it/s]\n",
      "999it [05:08,  3.24it/s]\n",
      "999it [05:08,  3.24it/s]\n",
      "999it [05:08,  3.24it/s]\n",
      "999it [05:08,  3.24it/s]\n",
      "999it [05:08,  3.24it/s]\n",
      "999it [05:08,  3.24it/s]\n",
      "999it [05:08,  3.24it/s]\n",
      "999it [05:08,  3.23it/s]\n",
      "999it [05:09,  3.23it/s]\n",
      "999it [05:09,  3.23it/s]\n",
      "999it [05:08,  3.23it/s]\n",
      "999it [05:08,  3.24it/s]\n",
      "999it [05:08,  3.24it/s]\n",
      "999it [05:08,  3.24it/s]\n",
      "999it [05:08,  3.24it/s]\n",
      "999it [05:08,  3.24it/s]\n",
      "999it [05:08,  3.23it/s]\n",
      "999it [05:08,  3.23it/s]\n",
      "999it [05:08,  3.24it/s]\n",
      "999it [05:08,  3.24it/s]\n",
      "999it [05:08,  3.23it/s]\n",
      "999it [05:08,  3.23it/s]\n",
      "999it [05:08,  3.24it/s]\n",
      "999it [05:09,  3.23it/s]\n",
      "999it [05:08,  3.23it/s]\n",
      "999it [05:09,  3.23it/s]\n",
      "999it [05:09,  3.23it/s]\n",
      "999it [05:08,  3.23it/s]\n",
      "999it [05:08,  3.23it/s]\n",
      "999it [05:08,  3.23it/s]\n",
      "999it [05:08,  3.23it/s]\n",
      "999it [05:08,  3.24it/s]\n",
      "999it [05:08,  3.24it/s]\n",
      "999it [05:09,  3.23it/s]\n",
      "999it [05:09,  3.23it/s]\n",
      "999it [05:09,  3.23it/s]\n",
      "999it [05:08,  3.24it/s]\n",
      "999it [05:08,  3.23it/s]\n",
      "999it [05:09,  3.23it/s]\n",
      "999it [05:08,  3.23it/s]\n",
      "999it [05:08,  3.23it/s]\n",
      "999it [05:09,  3.23it/s]\n",
      "999it [05:10,  3.22it/s]\n",
      "999it [05:10,  3.22it/s]\n",
      "999it [05:10,  3.22it/s]\n",
      "999it [05:10,  3.22it/s]\n",
      "999it [05:10,  3.22it/s]\n",
      "999it [05:10,  3.22it/s]\n",
      "999it [05:10,  3.22it/s]\n",
      "999it [05:10,  3.22it/s]\n",
      "999it [05:10,  3.22it/s]\n",
      "999it [05:09,  3.23it/s]\n",
      "999it [05:09,  3.23it/s]\n",
      "999it [05:09,  3.23it/s]\n",
      "999it [05:09,  3.23it/s]\n",
      "999it [05:09,  3.23it/s]\n",
      "999it [05:09,  3.22it/s]\n",
      "999it [05:09,  3.23it/s]\n",
      "999it [05:09,  3.23it/s]\n",
      "999it [05:09,  3.23it/s]\n",
      "999it [05:09,  3.23it/s]\n",
      "999it [05:10,  3.22it/s]\n",
      "999it [05:09,  3.23it/s]\n",
      "999it [05:09,  3.23it/s]\n",
      "999it [05:10,  3.22it/s]\n",
      "999it [05:10,  3.22it/s]\n",
      "999it [05:09,  3.23it/s]\n",
      "999it [05:08,  3.23it/s]\n",
      "999it [05:09,  3.23it/s]\n",
      "999it [05:09,  3.22it/s]\n",
      "999it [05:09,  3.23it/s]\n",
      "999it [05:09,  3.23it/s]\n",
      "999it [05:13,  3.19it/s]\n",
      "999it [05:14,  3.18it/s]\n",
      "999it [05:14,  3.17it/s]\n",
      "999it [05:17,  3.14it/s]\n",
      "999it [05:17,  3.15it/s]\n",
      "999it [05:13,  3.18it/s]\n",
      "999it [05:15,  3.17it/s]\n",
      "999it [05:15,  3.17it/s]\n",
      "999it [05:13,  3.18it/s]\n",
      "999it [05:14,  3.18it/s]\n",
      "999it [05:15,  3.17it/s]\n",
      "999it [05:14,  3.18it/s]\n",
      "999it [05:16,  3.16it/s]\n",
      "999it [05:16,  3.15it/s]\n",
      "999it [05:17,  3.15it/s]\n"
     ]
    },
    {
     "name": "stdout",
     "output_type": "stream",
     "text": [
      "subprocess done.\n",
      "\n",
      "Epoch: 92 Remaining 5000 images to generate\n"
     ]
    },
    {
     "name": "stderr",
     "output_type": "stream",
     "text": [
      "0it [00:00, ?it/s]/home/nice/mambaforge/lib/python3.10/site-packages/torch/nn/modules/conv.py:459: UserWarning: Applied workaround for CuDNN issue, install nvrtc.so (Triggered internally at /opt/conda/conda-bld/pytorch_1682343995026/work/aten/src/ATen/native/cudnn/Conv_v8.cpp:80.)\n",
      "  return F.conv2d(input, weight, bias, self.stride,\n",
      "999it [05:14,  3.17it/s]\n",
      "999it [05:14,  3.18it/s]\n",
      "999it [05:12,  3.19it/s]\n",
      "999it [05:13,  3.19it/s]\n",
      "999it [05:14,  3.18it/s]\n",
      "999it [05:14,  3.18it/s]\n",
      "999it [05:14,  3.18it/s]\n",
      "999it [05:14,  3.18it/s]\n",
      "999it [05:14,  3.17it/s]\n",
      "999it [05:14,  3.17it/s]\n",
      "999it [05:12,  3.19it/s]\n",
      "999it [05:15,  3.17it/s]\n",
      "999it [05:14,  3.17it/s]\n",
      "999it [05:16,  3.16it/s]\n",
      "999it [05:16,  3.16it/s]\n",
      "999it [05:16,  3.16it/s]\n",
      "999it [05:13,  3.19it/s]\n",
      "999it [05:12,  3.20it/s]\n",
      "999it [05:10,  3.22it/s]\n",
      "999it [05:12,  3.20it/s]\n",
      "999it [05:14,  3.18it/s]\n",
      "999it [05:13,  3.19it/s]\n",
      "999it [05:13,  3.19it/s]\n",
      "999it [05:12,  3.20it/s]\n",
      "999it [05:11,  3.21it/s]\n",
      "999it [05:11,  3.20it/s]\n",
      "999it [05:11,  3.20it/s]\n",
      "999it [05:10,  3.22it/s]\n",
      "999it [05:10,  3.22it/s]\n",
      "999it [05:10,  3.21it/s]\n",
      "999it [05:10,  3.22it/s]\n",
      "999it [05:12,  3.19it/s]\n",
      "999it [05:10,  3.21it/s]\n",
      "999it [05:11,  3.21it/s]\n",
      "999it [05:11,  3.21it/s]\n",
      "999it [05:11,  3.20it/s]\n",
      "999it [05:11,  3.20it/s]\n",
      "999it [05:11,  3.21it/s]\n",
      "999it [05:08,  3.23it/s]\n",
      "999it [05:08,  3.24it/s]\n",
      "999it [05:08,  3.23it/s]\n",
      "999it [05:09,  3.23it/s]\n",
      "999it [05:08,  3.24it/s]\n",
      "999it [05:08,  3.23it/s]\n",
      "999it [05:08,  3.23it/s]\n",
      "999it [05:09,  3.23it/s]\n",
      "999it [05:09,  3.23it/s]\n",
      "999it [05:09,  3.23it/s]\n",
      "999it [05:08,  3.23it/s]\n",
      "999it [05:08,  3.23it/s]\n",
      "999it [05:08,  3.23it/s]\n",
      "999it [05:09,  3.23it/s]\n",
      "999it [05:09,  3.23it/s]\n",
      "999it [05:09,  3.23it/s]\n",
      "999it [05:08,  3.23it/s]\n",
      "999it [05:09,  3.23it/s]\n",
      "999it [05:08,  3.24it/s]\n",
      "999it [05:08,  3.24it/s]\n",
      "999it [05:08,  3.24it/s]\n",
      "999it [05:08,  3.24it/s]\n",
      "999it [05:08,  3.24it/s]\n",
      "999it [05:08,  3.24it/s]\n",
      "999it [05:08,  3.24it/s]\n",
      "999it [05:08,  3.24it/s]\n",
      "999it [05:08,  3.24it/s]\n",
      "999it [05:08,  3.24it/s]\n",
      "999it [05:09,  3.23it/s]\n",
      "999it [05:09,  3.23it/s]\n",
      "999it [05:08,  3.24it/s]\n",
      "999it [05:08,  3.24it/s]\n",
      "999it [05:08,  3.24it/s]\n",
      "999it [05:08,  3.24it/s]\n",
      "999it [05:08,  3.24it/s]\n",
      "999it [05:08,  3.24it/s]\n",
      "999it [05:09,  3.23it/s]\n",
      "999it [05:11,  3.20it/s]\n",
      "999it [05:11,  3.21it/s]\n",
      "999it [05:10,  3.22it/s]\n",
      "999it [05:11,  3.21it/s]\n",
      "999it [05:11,  3.21it/s]\n",
      "999it [05:12,  3.20it/s]\n",
      "999it [05:12,  3.19it/s]\n",
      "999it [05:12,  3.19it/s]\n",
      "999it [05:14,  3.17it/s]\n",
      "999it [05:15,  3.17it/s]\n",
      "999it [05:14,  3.17it/s]\n",
      "999it [05:13,  3.19it/s]\n",
      "999it [05:12,  3.20it/s]\n",
      "999it [05:12,  3.20it/s]\n",
      "999it [05:13,  3.19it/s]\n",
      "999it [05:13,  3.19it/s]\n",
      "999it [05:13,  3.19it/s]\n",
      "999it [05:10,  3.22it/s]\n",
      "999it [05:11,  3.21it/s]\n",
      "999it [05:12,  3.20it/s]\n",
      "999it [05:12,  3.20it/s]\n",
      "999it [05:12,  3.19it/s]\n",
      "999it [05:11,  3.21it/s]\n",
      "999it [05:11,  3.21it/s]\n",
      "999it [05:11,  3.21it/s]\n"
     ]
    },
    {
     "name": "stdout",
     "output_type": "stream",
     "text": [
      "subprocess done.\n",
      "\n",
      "Epoch: 99 Remaining 656 images to generate\n"
     ]
    },
    {
     "name": "stderr",
     "output_type": "stream",
     "text": [
      "0it [00:00, ?it/s]/home/nice/mambaforge/lib/python3.10/site-packages/torch/nn/modules/conv.py:459: UserWarning: Applied workaround for CuDNN issue, install nvrtc.so (Triggered internally at /opt/conda/conda-bld/pytorch_1682343995026/work/aten/src/ATen/native/cudnn/Conv_v8.cpp:80.)\n",
      "  return F.conv2d(input, weight, bias, self.stride,\n",
      "999it [05:12,  3.20it/s]\n",
      "999it [05:10,  3.22it/s]\n",
      "999it [05:11,  3.20it/s]\n",
      "999it [05:11,  3.21it/s]\n",
      "999it [05:12,  3.20it/s]\n",
      "999it [05:10,  3.22it/s]\n",
      "999it [05:10,  3.21it/s]\n",
      "999it [05:10,  3.22it/s]\n",
      "999it [05:11,  3.21it/s]\n",
      "999it [05:12,  3.20it/s]\n",
      "999it [05:10,  3.22it/s]\n",
      "999it [05:11,  3.21it/s]\n",
      "999it [05:12,  3.20it/s]\n",
      "999it [05:10,  3.22it/s]\n"
     ]
    },
    {
     "name": "stdout",
     "output_type": "stream",
     "text": [
      "subprocess done.\n",
      "\n"
     ]
    }
   ],
   "source": [
    "import subprocess\n",
    "\n",
    "start = 1\n",
    "stop = 100\n",
    "step = 7\n",
    "\n",
    "epochs = range(start,stop,step)\n",
    "# print(len(epochs))\n",
    "samples_n = 5000\n",
    "\n",
    "for index in epochs:\n",
    "    gen_n = count_image_files(f\"gen/{DATASET_NAME}/DDPM/{index}\")\n",
    "\n",
    "    if gen_n < samples_n:\n",
    "        remain = samples_n - gen_n\n",
    "        print(\"Epoch:\",index,\"Remaining\",remain,\"images to generate\")\n",
    "\n",
    "        command = [\n",
    "            \"python\",\n",
    "            \"modules/ddpm_sample.py\",\n",
    "            \"--sample-size\",\n",
    "            f\"{remain}\",\n",
    "            \"--batch-size\",\n",
    "            \"50\",\n",
    "            \"--gen-path\",\n",
    "            f\"gen/{DATASET_NAME}/DDPM/{index}\",\n",
    "            \"--weight-path\",\n",
    "            f\"weights/{DATASET_NAME}/DDPM/{index}.pt\"\n",
    "        ]\n",
    "\n",
    "        try:\n",
    "            output = subprocess.check_output(command)\n",
    "            output = output.decode(\"utf-8\")  # Decode the byte output to string (if needed)\n",
    "            print(output)\n",
    "        except subprocess.CalledProcessError as e:\n",
    "            print(\"Command execution failed:\", e)\n",
    "        \n",
    "    else:\n",
    "        print(\"Epoch:\",index,\"Done\")"
   ]
  },
  {
   "attachments": {},
   "cell_type": "markdown",
   "metadata": {},
   "source": [
    "# Count learnable parameter in model"
   ]
  },
  {
   "cell_type": "code",
   "execution_count": 3,
   "metadata": {},
   "outputs": [],
   "source": [
    "model = UNet().to(\"cuda\")\n",
    "\n",
    "\n",
    "pytorch_total_params = sum(p.numel() for p in model.parameters() if p.requires_grad)"
   ]
  },
  {
   "cell_type": "code",
   "execution_count": 4,
   "metadata": {},
   "outputs": [
    {
     "name": "stdout",
     "output_type": "stream",
     "text": [
      "22291587\n"
     ]
    }
   ],
   "source": [
    "print(pytorch_total_params)"
   ]
  },
  {
   "cell_type": "code",
   "execution_count": null,
   "metadata": {},
   "outputs": [],
   "source": []
  }
 ],
 "metadata": {
  "kernelspec": {
   "display_name": "base",
   "language": "python",
   "name": "python3"
  },
  "language_info": {
   "codemirror_mode": {
    "name": "ipython",
    "version": 3
   },
   "file_extension": ".py",
   "mimetype": "text/x-python",
   "name": "python",
   "nbconvert_exporter": "python",
   "pygments_lexer": "ipython3",
   "version": "3.10.10"
  },
  "orig_nbformat": 4
 },
 "nbformat": 4,
 "nbformat_minor": 2
}
