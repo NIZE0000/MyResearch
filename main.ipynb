{
 "cells": [
  {
   "attachments": {},
   "cell_type": "markdown",
   "metadata": {},
   "source": [
    "# All relate directories\n",
    "\n",
    "### modules like gen-log script and so on\n",
    "modules/ \n",
    "\n",
    "### dataset\n",
    "dataset/  \n",
    "├── cats  \n",
    "└── lfw\n",
    "\n",
    "### weight of each model\n",
    "weight/     \n",
    "├── DCGAN/  \n",
    "└── DDPM/\n",
    "\n",
    "### genenrated images\n",
    "gen_image/  \n",
    "├── DCGAN/  \n",
    "├   ├── 10EPOCH/  \n",
    "└── DDPM/  \n",
    "\n",
    "### logs file use to store FID score and meta data\n",
    "logs/  \n",
    "├── DCGAN.log  \n",
    "└── DDPM.log"
   ]
  },
  {
   "cell_type": "code",
   "execution_count": null,
   "metadata": {},
   "outputs": [],
   "source": []
  }
 ],
 "metadata": {
  "language_info": {
   "name": "python"
  },
  "orig_nbformat": 4
 },
 "nbformat": 4,
 "nbformat_minor": 2
}
