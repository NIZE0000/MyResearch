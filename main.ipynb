{
 "cells": [
  {
   "attachments": {},
   "cell_type": "markdown",
   "metadata": {},
   "source": [
    "# All relate directories\n",
    "\n",
    "```\n",
    "root\n",
    "├───dataset\n",
    "│   ├───cats/\n",
    "│   └───lfw/\n",
    "├───gen_image\n",
    "│   ├───cats\n",
    "│   │   ├───DCGAN\n",
    "│   │   │   └───{epoch}/\n",
    "│   │   └───DDPM\n",
    "│   │       └───{epoch}/\n",
    "│   └───lfw\n",
    "│       ├───DCGAN\n",
    "│       │   └───{epoch}/\n",
    "│       └───DDPM\n",
    "│           └───{epoch}/\n",
    "├───logs\n",
    "│   ├───cats\n",
    "│   │   ├───DCGAN.log\n",
    "│   │   └───DDOM.log\n",
    "│   └───lfw\n",
    "│        ├───DCGAN.log\n",
    "│        └───DDOM.log\n",
    "├───modules\n",
    "│   ├───dcgan.py\n",
    "│   ├───ddpm.py\n",
    "│   └───gen_log.py\n",
    "└───weights\n",
    "    ├───cats\n",
    "    │   ├───DCGAN\n",
    "    │   │   ├───G{epoch}.pt\n",
    "    │   │   └───D{epoch}.pt\n",
    "    │   └───DDPM\n",
    "    │       └───{epoch}.pt\n",
    "    └───lfw\n",
    "        ├───DCGAN\n",
    "        │   ├───G{epoch}.pt\n",
    "        │   └───D{epoch}.pt\n",
    "        └───DDPM\n",
    "            └───{epoch}.pt\n",
    "```"
   ]
  },
  {
   "cell_type": "code",
   "execution_count": null,
   "metadata": {},
   "outputs": [],
   "source": []
  }
 ],
 "metadata": {
  "language_info": {
   "name": "python"
  },
  "orig_nbformat": 4
 },
 "nbformat": 4,
 "nbformat_minor": 2
}
